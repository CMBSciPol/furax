{
 "cells": [
  {
   "cell_type": "code",
   "execution_count": 1,
   "metadata": {},
   "outputs": [],
   "source": [
    "from furax import AbstractLinearOperator\n",
    "import furax.tree\n",
    "from furax.obs.stokes import StokesIQU\n",
    "import jax\n",
    "from jax import Array\n",
    "from jaxtyping import Inexact, PyTree\n",
    "import equinox\n",
    "import jax.numpy as jnp\n",
    "from furax.obs.landscapes import Stokes\n",
    "import numpy as np\n",
    "from furax.obs.operators import (\n",
    "    CMBOperator, DustOperator, MixingMatrixOperator, SynchrotronOperator,\n",
    ")\n",
    "import healpy as hp\n",
    "from furax.core._blocks import BlockDiagonalOperator, BlockRowOperator, BlockColumnOperator\n",
    "from furax import HomothetyOperator\n",
    "import operator\n",
    "from hwp_VES import ListToStokesOperator, StokesToListOperator, MixedStokesOperator\n",
    "import jaxopt\n",
    "from functools import partial\n",
    "from furax.obs import negative_log_likelihood\n",
    "from fgbuster.observation_helpers import _jysr2rj, _rj2cmb\n",
    "import pysm3\n",
    "from pysm3 import units as u\n",
    "from hwp_VES import ListToStokesOperator, StokesToListOperator, MixedStokesOperator"
   ]
  },
  {
   "cell_type": "code",
   "execution_count": 2,
   "metadata": {},
   "outputs": [],
   "source": [
    "nside   = 64\n",
    "nfreq   = 50\n",
    "\n",
    "freq_dict = {\n",
    "    'LF1':  {'frequency': 27.0,   'amplitude': 1., 'phaseshift': 0., 'offset': 0.},\n",
    "    'LF2':  {'frequency': 39.0,   'amplitude': 1., 'phaseshift': 0., 'offset': 0.},\n",
    "    'MF1': {'frequency': 92.0, 'amplitude': np.float64(-0.9304176070254246), 'phaseshift': np.float64(0.785444797556243), 'offset': np.float64(0.004623759680303902)},\n",
    "    'MF2': {'frequency': 148.0, 'amplitude': np.float64(-0.90126293657285), 'phaseshift': np.float64(-2.357455125723842), 'offset': np.float64(0.0030693534485759654)},\n",
    "    'UHF1': {'frequency': 225.5, 'amplitude': np.float64(-0.9496306860180984), 'phaseshift': np.float64(0.784989765678136), 'offset': np.float64(0.0004266008626783833)}, \n",
    "    'UHF2': {'frequency': 286.5, 'amplitude': np.float64(-0.9152820744914298), 'phaseshift': np.float64(0.7860182289948432), 'offset': np.float64(4.6078803292807735e-05)}}\n",
    "\n",
    "frequency_channels = np.array([freq_dict[key][\"frequency\"] for key in freq_dict.keys()])\n",
    "\n",
    "def get_bp(freq_c, NFREQ):\n",
    "    nu_r = np.linspace(0.8, 1.2, NFREQ) * freq_c\n",
    "    # nu_r = np.linspace(1., 1.2, NFREQ) * freq_c\n",
    "    bp = np.zeros_like(nu_r)\n",
    "    bp[nu_r > 0.85 * freq_c] = 1.\n",
    "    bp[nu_r > 1.15 * freq_c] = 0.\n",
    "    return nu_r,np.nan_to_num(bp, nan=0)\n",
    "\n",
    "def get_bp_uKCMB(freq_c, NFREQ):\n",
    "    nu_r = np.linspace(0.8, 1.2, NFREQ) * freq_c\n",
    "    bp = np.zeros_like(nu_r)\n",
    "    bp[nu_r > 0.85 * freq_c] = 1.\n",
    "    bp[nu_r > 1.15 * freq_c] = 0.\n",
    "    weights = bp / _jysr2rj(nu_r)\n",
    "    weights /= _rj2cmb(nu_r) \n",
    "    weights /= np.trapezoid(np.nan_to_num(weights, nan=0), nu_r*1E9)\n",
    "    # print(np.sum(weights))\n",
    "    bp_norm = [nu_r, np.nan_to_num(weights, nan=0)]\n",
    "    return bp_norm\n",
    "\n",
    "bp_arrays = np.array([get_bp(freq, nfreq) for freq in frequency_channels ])"
   ]
  },
  {
   "cell_type": "code",
   "execution_count": 4,
   "metadata": {},
   "outputs": [
    {
     "name": "stdout",
     "output_type": "stream",
     "text": [
      "freq_maps shape: (6, 3, 49152)\n",
      "(49152,)\n"
     ]
    }
   ],
   "source": [
    "sky = pysm3.Sky(nside=nside, preset_strings=[\"d0\"], output_unit=u.uK_CMB)\n",
    "\n",
    "freq_maps = np.zeros((len(frequency_channels), 3,hp.nside2npix(nside)))\n",
    "\n",
    "for i, f in enumerate(frequency_channels):\n",
    "    freq_maps[i] = sky.get_emission(bp_arrays[i][0]* u.GHz, weights=bp_arrays[i][1])\n",
    "\n",
    "print(\"freq_maps shape:\", freq_maps.shape)\n",
    "\n",
    "mask_ = hp.read_map('binary_mask.fits')\n",
    "mask_i = np.where((mask_ > 0) & (mask_ < 1), 0, mask_)\n",
    "mask = hp.ud_grade(mask_i, nside_out=nside)\n",
    "print(mask.shape)\n",
    "\n",
    "def mask_map(input_map, mask):\n",
    "    masked_map = np.where(mask == 0, 0, input_map)\n",
    "    return masked_map\n",
    "\n",
    "freq_maps   = mask_map(freq_maps, mask)\n"
   ]
  },
  {
   "cell_type": "code",
   "execution_count": 5,
   "metadata": {},
   "outputs": [
    {
     "name": "stdout",
     "output_type": "stream",
     "text": [
      "StokesIQU(i=ShapeDtypeStruct(shape=(6, 49152), dtype=float64), q=ShapeDtypeStruct(shape=(6, 49152), dtype=float64), u=ShapeDtypeStruct(shape=(6, 49152), dtype=float64))\n",
      "StokesIQU(i=ShapeDtypeStruct(shape=(49152,), dtype=float64), q=ShapeDtypeStruct(shape=(49152,), dtype=float64), u=ShapeDtypeStruct(shape=(49152,), dtype=float64))\n"
     ]
    }
   ],
   "source": [
    "d = Stokes.from_stokes(I=freq_maps[:, 0, :], Q=freq_maps[:, 1, :], U=freq_maps[:, 2, :])\n",
    "print(d.structure)\n",
    "\n",
    "in_structure = d.structure_for(d[0].shape,)\n",
    "print(in_structure)"
   ]
  },
  {
   "cell_type": "code",
   "execution_count": 6,
   "metadata": {},
   "outputs": [
    {
     "name": "stdout",
     "output_type": "stream",
     "text": [
      "StokesIQU(i=ShapeDtypeStruct(shape=(49152,), dtype=float64), q=ShapeDtypeStruct(shape=(49152,), dtype=float64), u=ShapeDtypeStruct(shape=(49152,), dtype=float64))\n"
     ]
    }
   ],
   "source": [
    "keys = list(freq_dict.keys())\n",
    "inputs = []\n",
    "VESs = []\n",
    "effs = []\n",
    "TMs = []\n",
    "ROOT = f'NFREQ100_NSIDE64_RCC'\n",
    "mask = hp.read_map('binary_mask.fits')\n",
    "mask = hp.ud_grade(mask, nside_out=64)\n",
    "for key in keys:\n",
    "    fits_directory = f'{ROOT}/{key}'\n",
    "    inputs.append(hp.read_map(f'{fits_directory}/map_input.fits', field=[0,1,2], dtype=np.float64))\n",
    "    VESs.append(hp.read_map(f'{fits_directory}/map_VES.fits', field=[0,1,2], dtype=np.float64))\n",
    "    effs.append(hp.read_map(f'{fits_directory}/map_eff.fits', field=[0,1,2], dtype=np.float64))\n",
    "    TMs.append(hp.read_map(f'{fits_directory}/map_id.fits', field=[0,1,2], dtype=np.float64))\n",
    "\n",
    "inputs  = np.array(inputs)\n",
    "effs    = np.array(effs)\n",
    "\n",
    "map_input   = mask_map(inputs, mask)\n",
    "map_eff     = mask_map(effs, mask)\n",
    "map_TMs     = mask_map(TMs, mask)\n",
    "\n",
    "map_eff[0] = map_input[0]\n",
    "map_eff[1] = map_input[1]\n",
    "\n",
    "d = Stokes.from_stokes(I=map_eff[:, 0, :], Q=map_eff[:, 1, :], U=map_eff[:, 2, :])\n",
    "d.structure\n",
    "\n",
    "in_structure = d.structure_for(d[0].shape,)\n",
    "print(in_structure)"
   ]
  },
  {
   "cell_type": "code",
   "execution_count": 18,
   "metadata": {},
   "outputs": [],
   "source": [
    "dust_nu0 = 148.0\n",
    "synchrotron_nu0 = None\n",
    "best_params = {\"beta_dust\": 2.0}"
   ]
  },
  {
   "cell_type": "code",
   "execution_count": 19,
   "metadata": {},
   "outputs": [],
   "source": [
    "import transfer_matrixJAX as tm\n",
    "sapphire = tm.material( 3.05, 3.38, 2.3e-4, 1.25e-4, 'Sapphire', materialType='uniaxial')\n",
    "duroid   = tm.material( 1.41, 1.41, 1.2e-3, 1.2e-3, 'RT Duroid', materialType='isotropic')\n",
    "mullite = tm.material( 2.52, 2.52, 0.0121, 0.0121, 'Mullite', materialType='isotropic')\n",
    "epoteck = tm.material( 1.7, 1.7, 0., 0., 'Epoteck', materialType='isotropic')\n",
    "\n",
    "thicknesses   = [0.394*tm.mm, 0.04*tm.mm, 0.212*tm.mm, 3.75*tm.mm,3.75*tm.mm,3.75*tm.mm, 0.212*tm.mm, 0.04*tm.mm, 0.394*tm.mm]\n",
    "thicknesses_HF = [0.183*tm.mm, 0.04*tm.mm, 0.097*tm.mm, 1.60*tm.mm,1.60*tm.mm,1.60*tm.mm, 0.097*tm.mm, 0.04*tm.mm, 0.183*tm.mm]\n",
    "materials   = [duroid, epoteck, mullite, sapphire, sapphire, sapphire, mullite, epoteck, duroid]\n",
    "angles      = [0.0, 0.0, 0.0, 0.0, 54.0*tm.deg, 0.0, 0.0, 0.0, 0.0]\n",
    "angles_HF    = [0.0, 0.0, 0.0, 0.0, 57.0*tm.deg, 0.0, 0.0, 0.0, 0.0]\n",
    "\n",
    "GHz    = 1e9 \n",
    "deg = np.pi/180.    \n",
    "angleIncidence = 5.\n",
    "\n",
    "nE,nO =3.38,3.05\n",
    "c = 2.998e8 \n",
    "angle_incidence = 5*deg\n",
    "\n",
    "shape = (hp.nside2npix(nside),)"
   ]
  },
  {
   "cell_type": "code",
   "execution_count": 20,
   "metadata": {},
   "outputs": [],
   "source": [
    "def eval_A(params, f_c,nu_r, in_structure):\n",
    "    \n",
    "    cmb_template = CMBOperator(nu_r, in_structure=in_structure, units=\"K_CMB\")\n",
    "    dust_template = DustOperator(\n",
    "        nu_r,\n",
    "        frequency0=f_c,\n",
    "        temperature= 20.0,\n",
    "        beta=params[\"beta_dust\"],\n",
    "        in_structure=in_structure,units=\"K_CMB\"\n",
    "    )\n",
    "    # synchrotron_template = SynchrotronOperator(\n",
    "    #     nu_r,\n",
    "    #     frequency0=f_c,\n",
    "    #     beta_pl=params[\"beta_pl\"],\n",
    "    #     in_structure=in_structure,units=\"K_CMB\"\n",
    "    # )\n",
    "\n",
    "    A = MixingMatrixOperator(cmb=cmb_template, dust=dust_template) #, synchrotron=synchrotron_template)\n",
    "    return A \n",
    "\n",
    "\n",
    "def Operator(params):\n",
    "    Op_list = []\n",
    "\n",
    "    for nu_x, (key, value) in enumerate(freq_dict.items()):\n",
    "        freq    = freq_dict[key][\"frequency\"]\n",
    "        epsilon = freq_dict[key][\"amplitude\"]\n",
    "        phi     = freq_dict[key][\"phaseshift\"]\n",
    "        bp_arrays_uKCMB= get_bp_uKCMB(freq, nfreq)\n",
    "\n",
    "        AOp     = eval_A(params, dust_nu0,bp_arrays_uKCMB[0], in_structure)\n",
    "        ListOp = StokesToListOperator(axis=0, in_structure=AOp.out_structure())\n",
    "        \n",
    "        # hwp_list = []\n",
    "        # if 'UHF' in key:\n",
    "        #     thickness = thicknesses_HF[4]\n",
    "        #     alpha_2 = angles_HF[4]\n",
    "        \n",
    "        # else: \n",
    "        #     thickness = thicknesses[4]\n",
    "        #     alpha_2 = angles[4]\n",
    "\n",
    "        # for freq in bp_arrays_uKCMB[0]:\n",
    "        #     # Create HWP operator for this frequency\n",
    "        #     hwp_list.append(MixedStokesOperator.create(\n",
    "        #         shape=shape,\n",
    "        #         stokes='IQU',\n",
    "        #         frequency=freq,\n",
    "        #         angleIncidence=angle_incidence,\n",
    "        #         epsilon=epsilon,\n",
    "        #         phi=phi,\n",
    "        #         thickness=thickness,\n",
    "        #         alpha_2=alpha_2\n",
    "        #     ))\n",
    "\n",
    "        # HDiag = BlockDiagonalOperator([hwp_list[i] for i in range(nfreq)])\n",
    "\n",
    "        BP = bp_arrays_uKCMB[1]\n",
    "        STRUCT = StokesIQU.structure_for(shape=(hp.nside2npix(nside),), dtype=np.float64)\n",
    "        Bandpass_RowOp = BlockRowOperator([HomothetyOperator(BP[i]/np.sum(BP),STRUCT) for i in range (BP.size)])\n",
    "\n",
    "        Op = Bandpass_RowOp  @ ListOp @ AOp\n",
    "        Op_list.append(Op)\n",
    "\n",
    "    OpBlock     = BlockColumnOperator([Op_list[i] for i in range (len(Op_list))])\n",
    "    StokesOp    = ListToStokesOperator(axis=0, in_structure=OpBlock.out_structure())\n",
    "    BMA = StokesOp @ OpBlock\n",
    "\n",
    "    return BMA"
   ]
  },
  {
   "cell_type": "code",
   "execution_count": 21,
   "metadata": {},
   "outputs": [],
   "source": [
    "BMA = Operator(best_params)"
   ]
  },
  {
   "cell_type": "code",
   "execution_count": 22,
   "metadata": {},
   "outputs": [],
   "source": [
    "invN = HomothetyOperator(jnp.ones(1), _in_structure=BMA.T.in_structure())\n",
    "DND = invN(d) @ d\n",
    "from likelihoods_kwitchi import negative_log_likelihood_bma"
   ]
  },
  {
   "cell_type": "code",
   "execution_count": 23,
   "metadata": {},
   "outputs": [],
   "source": [
    "def get_nll(params, nu, N, d, dust_nu0, synchrotron_nu0):\n",
    "    BMA = Operator(params)\n",
    "    return negative_log_likelihood_bma(params, nu, N, d, dust_nu0, synchrotron_nu0, BMA\n",
    "    )"
   ]
  },
  {
   "cell_type": "code",
   "execution_count": 24,
   "metadata": {},
   "outputs": [],
   "source": [
    "import optax\n",
    "import optax.tree_utils as otu\n",
    "from jax_grid_search import optimize\n",
    "\n",
    "solver = optax.lbfgs()\n",
    "\n",
    "final_params, final_state = optimize(\n",
    "    best_params, get_nll, solver, max_iter=2, tol=1e-4, nu=frequency_channels, N=invN, d=d, dust_nu0=dust_nu0, synchrotron_nu0=synchrotron_nu0)\n",
    "\n",
    "\n",
    "print(\n",
    "    f\"Final parameters: {final_params}, number of evaluations: {otu.tree_get(final_state, 'count')}\"\n",
    ")\n",
    "print(f\"Initial Value: {get_nll(final_params, nu=frequency_channels, N=invN, d=d, dust_nu0=dust_nu0, synchrotron_nu0=synchrotron_nu0)}\")"
   ]
  },
  {
   "cell_type": "code",
   "execution_count": 1,
   "metadata": {},
   "outputs": [
    {
     "ename": "NameError",
     "evalue": "name 'final_params' is not defined",
     "output_type": "error",
     "traceback": [
      "\u001b[0;31m---------------------------------------------------------------------------\u001b[0m",
      "\u001b[0;31mNameError\u001b[0m                                 Traceback (most recent call last)",
      "Cell \u001b[0;32mIn[1], line 1\u001b[0m\n\u001b[0;32m----> 1\u001b[0m \u001b[43mfinal_params\u001b[49m\n",
      "\u001b[0;31mNameError\u001b[0m: name 'final_params' is not defined"
     ]
    }
   ],
   "source": [
    "final_params"
   ]
  },
  {
   "cell_type": "code",
   "execution_count": null,
   "metadata": {},
   "outputs": [],
   "source": []
  }
 ],
 "metadata": {
  "kernelspec": {
   "display_name": ".venv",
   "language": "python",
   "name": "python3"
  },
  "language_info": {
   "codemirror_mode": {
    "name": "ipython",
    "version": 3
   },
   "file_extension": ".py",
   "mimetype": "text/x-python",
   "name": "python",
   "nbconvert_exporter": "python",
   "pygments_lexer": "ipython3",
   "version": "3.10.15"
  }
 },
 "nbformat": 4,
 "nbformat_minor": 2
}
